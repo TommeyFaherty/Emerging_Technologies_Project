{
 "cells": [
  {
   "cell_type": "code",
   "execution_count": 69,
   "metadata": {},
   "outputs": [],
   "source": [
    "import tensorflow as tf\n",
    "from tensorflow import keras\n",
    "import pandas as pd\n",
    "import numpy as np\n",
    "import matplotlib.pyplot as plt\n",
    "from keras.utils import to_categorical"
   ]
  },
  {
   "cell_type": "code",
   "execution_count": 70,
   "metadata": {},
   "outputs": [],
   "source": [
    "mnist = kr.datasets.mnist"
   ]
  },
  {
   "cell_type": "code",
   "execution_count": 71,
   "metadata": {},
   "outputs": [],
   "source": [
    "img_rows, img_cols = 28, 28\n",
    "(train_images, train_labels), (test_images, test_labels) = mnist.load_data()\n",
    "\n",
    "#train_labels = to_categorical(train_labels, num_classes=10)\n",
    "#test_labels = to_categorical(test_labels, num_classes=10)\n",
    "\n",
    "train_images = tf.keras.utils.normalize(train_images, axis=1)\n",
    "test_images = tf.keras.utils.normalize(test_images, axis=1)"
   ]
  },
  {
   "cell_type": "code",
   "execution_count": null,
   "metadata": {},
   "outputs": [],
   "source": []
  },
  {
   "cell_type": "code",
   "execution_count": 72,
   "metadata": {},
   "outputs": [],
   "source": [
    "#show first 25 images\n",
    "\n",
    "#plt.figure(figsize=(10,10))\n",
    "#for i in range(25):\n",
    "#    plt.subplot(5,5,i+1)\n",
    "#    plt.xticks([])\n",
    "#   plt.yticks([])\n",
    "# plt.grid(False)\n",
    "#  plt.imshow(train_images[i], cmap=plt.cm.binary)\n",
    "#plt.show()"
   ]
  },
  {
   "cell_type": "code",
   "execution_count": 73,
   "metadata": {},
   "outputs": [
    {
     "name": "stdout",
     "output_type": "stream",
     "text": [
      "Train on 60000 samples\n",
      "Epoch 1/10\n",
      "60000/60000 [==============================] - 11s 184us/sample - loss: 0.2598 - accuracy: 0.9241\n",
      "Epoch 2/10\n",
      "60000/60000 [==============================] - 7s 122us/sample - loss: 0.1044 - accuracy: 0.9681\n",
      "Epoch 3/10\n",
      "60000/60000 [==============================] - 7s 121us/sample - loss: 0.0727 - accuracy: 0.9773\n",
      "Epoch 4/10\n",
      "60000/60000 [==============================] - 7s 124us/sample - loss: 0.0538 - accuracy: 0.9829\n",
      "Epoch 5/10\n",
      "60000/60000 [==============================] - 7s 123us/sample - loss: 0.0399 - accuracy: 0.9873\n",
      "Epoch 6/10\n",
      "60000/60000 [==============================] - 7s 121us/sample - loss: 0.0341 - accuracy: 0.9884\n",
      "Epoch 7/10\n",
      "60000/60000 [==============================] - 7s 121us/sample - loss: 0.0267 - accuracy: 0.9913\n",
      "Epoch 8/10\n",
      "60000/60000 [==============================] - 7s 123us/sample - loss: 0.0228 - accuracy: 0.9921\n",
      "Epoch 9/10\n",
      "60000/60000 [==============================] - ETA: 0s - loss: 0.0178 - accuracy: 0.99 - 7s 122us/sample - loss: 0.0178 - accuracy: 0.9941\n",
      "Epoch 10/10\n",
      "60000/60000 [==============================] - 8s 125us/sample - loss: 0.0148 - accuracy: 0.9947\n"
     ]
    },
    {
     "data": {
      "text/plain": [
       "(60000, 28, 28)"
      ]
     },
     "execution_count": 73,
     "metadata": {},
     "output_type": "execute_result"
    }
   ],
   "source": [
    "model = tf.keras.models.Sequential()\n",
    "model.add(tf.keras.layers.Flatten())\n",
    "model.add(tf.keras.layers.Dense(128, activation='relu'))\n",
    "model.add(tf.keras.layers.Dense(128, activation='relu'))\n",
    "model.add(tf.keras.layers.Dense(10, activation='softmax'))\n",
    "\n",
    "model.compile(optimizer='adam',\n",
    "             loss='sparse_categorical_crossentropy',\n",
    "             metrics=['accuracy'])\n",
    "model.fit(train_images, train_labels, epochs=10)\n",
    "\n",
    "\n",
    "train_images.shape\n",
    "#plt.imshow(train_images[0][:,:,0])\n",
    "#plt.show()"
   ]
  },
  {
   "cell_type": "code",
   "execution_count": null,
   "metadata": {},
   "outputs": [],
   "source": []
  }
 ],
 "metadata": {
  "kernelspec": {
   "display_name": "Python 3",
   "language": "python",
   "name": "python3"
  },
  "language_info": {
   "codemirror_mode": {
    "name": "ipython",
    "version": 3
   },
   "file_extension": ".py",
   "mimetype": "text/x-python",
   "name": "python",
   "nbconvert_exporter": "python",
   "pygments_lexer": "ipython3",
   "version": "3.7.4"
  }
 },
 "nbformat": 4,
 "nbformat_minor": 2
}
